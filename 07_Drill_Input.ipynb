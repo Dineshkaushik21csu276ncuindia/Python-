{
 "cells": [
  {
   "cell_type": "markdown",
   "metadata": {},
   "source": [
    "# Exercise"
   ]
  },
  {
   "cell_type": "markdown",
   "metadata": {},
   "source": [
    "## Question 1"
   ]
  },
  {
   "cell_type": "markdown",
   "metadata": {},
   "source": [
    "**In interactive mode, make two variables, one for your first name and one for your last name. Then, using a single print statement, print your first and last names together.**"
   ]
  },
  {
   "cell_type": "code",
   "execution_count": 4,
   "metadata": {},
   "outputs": [
    {
     "name": "stdout",
     "output_type": "stream",
     "text": [
      "Dineshkaushik\n"
     ]
    }
   ],
   "source": [
    "fristname = (\"Dinesh\")\n",
    "secondname = (\"kaushik\")\n",
    "print(fristname  +  secondname)\n"
   ]
  },
  {
   "cell_type": "markdown",
   "metadata": {},
   "source": [
    "## Question 2"
   ]
  },
  {
   "cell_type": "markdown",
   "metadata": {},
   "source": [
    "**Write a program that asks for your first name, then asks for your last name, and then\n",
    "prints a message with your first and last names in it.**"
   ]
  },
  {
   "cell_type": "code",
   "execution_count": 6,
   "metadata": {},
   "outputs": [
    {
     "name": "stdout",
     "output_type": "stream",
     "text": [
      "dineshkaushik\n"
     ]
    }
   ],
   "source": [
    "firstname= input(\"Enter your first name\")\n",
    "secondname= input(\"Enter your last name\")\n",
    "print(firstname + secondname )"
   ]
  },
  {
   "cell_type": "markdown",
   "metadata": {},
   "source": [
    "## Question 3"
   ]
  },
  {
   "cell_type": "markdown",
   "metadata": {},
   "source": [
    "**Write a program that asks for the dimensions (in feet) of a rectangular room, and then\n",
    "calculates and displays the total amount of carpet needed to cover the room.**\n"
   ]
  },
  {
   "cell_type": "code",
   "execution_count": 13,
   "metadata": {},
   "outputs": [
    {
     "name": "stdout",
     "output_type": "stream",
     "text": [
      "welcome\n",
      "12\n",
      "134\n",
      "1608\n",
      "10 rupees per meter of carpet\n",
      "16080\n"
     ]
    }
   ],
   "source": [
    "print(\"welcome\")\n",
    "length = int(input(\"Enter the length of rectangle\"))\n",
    "breadth = int(input(\"Enter the breadth of rectangle\"))\n",
    "print(length)\n",
    "print(breadth)\n",
    "area = (length*breadth)\n",
    "print((area))\n",
    "print(\"10 rupees per meter of carpet\")\n",
    "cost = (area*10)\n",
    "print(cost)"
   ]
  },
  {
   "cell_type": "markdown",
   "metadata": {},
   "source": [
    "## Question 4"
   ]
  },
  {
   "cell_type": "markdown",
   "metadata": {},
   "source": [
    "**Write a program that does the same as in #3, but that also asks for the cost per square\n",
    "yard of carpet. Then have the program display these three things:**\n",
    "\n",
    "**•\tThe total amount of carpet, in square feet**\n",
    "\n",
    "**•\tThe total amount of carpet, in square yards (1 square yard = 9 square feet)**\n",
    "\n",
    "**•\tThe total cost of the carpet**\n"
   ]
  },
  {
   "cell_type": "code",
   "execution_count": 20,
   "metadata": {},
   "outputs": [
    {
     "name": "stdout",
     "output_type": "stream",
     "text": [
      "welcome\n",
      "12\n",
      "14\n",
      "168\n",
      "10 rupees per feet of carpet\n",
      "total cost of carpet, in squre feet\n",
      "1680\n",
      "18.666666666666668\n",
      "cost in squreyard\n",
      "186.66666666666669\n",
      "total cost of carpet\n",
      "1680\n"
     ]
    }
   ],
   "source": [
    "print(\"welcome\")\n",
    "length = int(input(\"Enter the length of rectangle\"))\n",
    "breadth = int(input(\"Enter the breadth of rectangle\"))\n",
    "print(length)\n",
    "print(breadth)\n",
    "area = (length*breadth)\n",
    "print((area))\n",
    "print(\"10 rupees per feet of carpet\")\n",
    "cost = (area*10)\n",
    "print(\"total cost of carpet, in squre feet\")\n",
    "print(cost)\n",
    "squreyard = (area/9)\n",
    "print(squreyard)\n",
    "costinsqureyard = squreyard*10\n",
    "print(\"cost in squreyard\")\n",
    "print(costinsqureyard)\n",
    "print(\"total cost of carpet\")\n",
    "print(cost)\n"
   ]
  },
  {
   "cell_type": "markdown",
   "metadata": {},
   "source": [
    "## Question 5"
   ]
  },
  {
   "cell_type": "markdown",
   "metadata": {},
   "source": [
    "**Write a program that helps the user add up her change. The program should ask**\n",
    "\n",
    "**•\t“How many quarters?”**\n",
    "\n",
    "**•\t“How many dimes?”**\n",
    "\n",
    "**•\t“How many nickels?”**\n",
    "\n",
    "**•\t“How many pennies?”**\n",
    "\n",
    "**Then it should give the total value of the change.**\n"
   ]
  },
  {
   "cell_type": "code",
   "execution_count": 2,
   "metadata": {},
   "outputs": [
    {
     "name": "stdout",
     "output_type": "stream",
     "text": [
      "12324552\n"
     ]
    }
   ],
   "source": [
    "quarters = input(\"how many quarters \")\n",
    "dimes = input(\"how many dimes \")\n",
    "nickels = input(\"how many nickels \")\n",
    "pennies =  input(\"how many pennies\")\n",
    "Add = quarters + dimes + nickels + pennies\n",
    "print(Add) "
   ]
  },
  {
   "cell_type": "markdown",
   "metadata": {},
   "source": [
    "## Question 6"
   ]
  },
  {
   "cell_type": "markdown",
   "metadata": {},
   "source": [
    "**Write a program that takes two integer arguments, x and y from user and prints Euclidean distance of the point (x,y) from (0,0).**"
   ]
  },
  {
   "cell_type": "code",
   "execution_count": 3,
   "metadata": {},
   "outputs": [
    {
     "name": "stdout",
     "output_type": "stream",
     "text": [
      "1.414214\n"
     ]
    }
   ],
   "source": [
    "import math\n",
    "def distance(x1 , y1 , x2 , y2):\n",
    "\treturn math.sqrt(math.pow(x2 - x1, 2) +\n",
    "\t\t\t\tmath.pow(y2 - y1, 2) * 1.0)\n",
    "print(\"%.6f\"%distance(3, 4, 4, 3))"
   ]
  },
  {
   "cell_type": "markdown",
   "metadata": {},
   "source": [
    "## Question 7"
   ]
  },
  {
   "cell_type": "markdown",
   "metadata": {},
   "source": [
    "**Write a program that takes two integer arguments x and y from user and swaps their values. After each assignment statement, print a trace of the variables.**\n"
   ]
  },
  {
   "cell_type": "code",
   "execution_count": 12,
   "metadata": {},
   "outputs": [
    {
     "name": "stdout",
     "output_type": "stream",
     "text": [
      "value of a before swapping 12\n",
      "value of b before swapping 123\n",
      "value of a after swapping 123\n",
      "value of b after swapping 12\n"
     ]
    }
   ],
   "source": [
    "a = 12\n",
    "b = 123\n",
    "print(\"value of a before swapping\" , a)\n",
    "print(\"value of b before swapping\" , b)\n",
    "swipe = a\n",
    "a = b \n",
    "b = swipe\n",
    "print(\"value of a after swapping\" , a)\n",
    "print(\"value of b after swapping\" , b)\n"
   ]
  }
 ],
 "metadata": {
  "kernelspec": {
   "display_name": "Python 3.10.5 64-bit",
   "language": "python",
   "name": "python3"
  },
  "language_info": {
   "codemirror_mode": {
    "name": "ipython",
    "version": 3
   },
   "file_extension": ".py",
   "mimetype": "text/x-python",
   "name": "python",
   "nbconvert_exporter": "python",
   "pygments_lexer": "ipython3",
   "version": "3.10.5"
  },
  "vscode": {
   "interpreter": {
    "hash": "b9d1092be7cb899da6de8f1882d369af25d6743bceed3b18029057ff16634529"
   }
  }
 },
 "nbformat": 4,
 "nbformat_minor": 2
}
