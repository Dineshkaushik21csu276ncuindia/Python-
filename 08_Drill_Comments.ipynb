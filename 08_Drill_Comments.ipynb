{
 "cells": [
  {
   "cell_type": "markdown",
   "metadata": {},
   "source": [
    "### **Go back to Password Checker project in Loops and add Comments.**"
   ]
  },
  {
   "cell_type": "markdown",
   "metadata": {},
   "source": [
    "## Password Checker"
   ]
  },
  {
   "cell_type": "markdown",
   "metadata": {},
   "source": [
    "It’s **important** to protect your personal information online, and in this project you’ll create a program to generate passwords for you.\n",
    "<br>\n",
    "**The** passwords will be random, so no one will be able to guess them!\n",
    "\n",
    "**Write a python program to ask the user the length of password to be selected and generate a password randomly of given length.**"
   ]
  },
  {
   "cell_type": "markdown",
   "metadata": {},
   "source": [
    "# Solution"
   ]
  },
  {
   "cell_type": "markdown",
   "metadata": {},
   "source": [
    "**To choose a random character, you’ll need to import the random module.**"
   ]
  },
  {
   "cell_type": "code",
   "execution_count": 2,
   "metadata": {},
   "outputs": [],
   "source": [
    "import random"
   ]
  },
  {
   "cell_type": "markdown",
   "metadata": {},
   "source": [
    "**Choosing a password length. <br>\n",
    "Ask the user to input a password length, and store it in a variable called length.**\n"
   ]
  },
  {
   "cell_type": "code",
   "execution_count": 3,
   "metadata": {},
   "outputs": [
    {
     "name": "stdout",
     "output_type": "stream",
     "text": [
      "32\n"
     ]
    }
   ],
   "source": [
    "lenght = (input(\"Enter the length of password\"))\n",
    "print(lenght)"
   ]
  },
  {
   "cell_type": "markdown",
   "metadata": {},
   "source": [
    "**Now you can choose a random character from the list (containing alphabets,numbers and special characters), and store it in a variable called password.**"
   ]
  },
  {
   "cell_type": "code",
   "execution_count": 6,
   "metadata": {},
   "outputs": [
    {
     "name": "stdout",
     "output_type": "stream",
     "text": [
      "4s!lsnkm8\n"
     ]
    }
   ],
   "source": [
    "import random\n",
    "length = input(\"Enter the length of password\")\n",
    "def printRandomString(n):\n",
    "    MAX = 25\n",
    "    alphabet = ['a', 'b', '@','!' , '1','2','4','8','#' 'c', 'd', 'e', 'f', 'g',\n",
    "                'h', 'i', 'j', 'k', 'l', 'm', 'n',\n",
    "                'o', 'p', 'q', 'r', 's', 't', 'u',\n",
    "                'v', 'w', 'x', 'y', 'z']\n",
    "    res = \"\"\n",
    "    for i in range(n):\n",
    "        res = res + alphabet[random.randint(0, MAX)]\n",
    "    return res\n",
    "n = int(length)\n",
    "print(printRandomString(n))"
   ]
  },
  {
   "cell_type": "markdown",
   "metadata": {},
   "source": [
    "**Now you can choose a random character from the list (containing alphabets,numbers and special characters), and store it in a variable called password.**\n",
    "**length and how many password is given by user**"
   ]
  },
  {
   "cell_type": "code",
   "execution_count": 1,
   "metadata": {},
   "outputs": [
    {
     "name": "stdout",
     "output_type": "stream",
     "text": [
      "qrdins\n",
      "a8#can!\n",
      "j@!ebn\n",
      "!kqdr!\n",
      "dlotft\n",
      "hh@!lk\n",
      "ej!s28\n",
      "gorhnh\n",
      "i8erb#c\n"
     ]
    }
   ],
   "source": [
    "import random\n",
    "length = input(\"Enter the length of password\")\n",
    "limit = int(input(\"How many passwords do you need? \"))\n",
    "def printRandomString(n):\n",
    "    MAX = 25\n",
    "    alphabet = ['a', 'b', '@','!' , '1','2','4','8','#' 'c', 'd', 'e', 'f', 'g',\n",
    "                'h', 'i', 'j', 'k', 'l', 'm', 'n',\n",
    "                'o', 'p', 'q', 'r', 's', 't', 'u',\n",
    "                'v', 'w', 'x', 'y', 'z']\n",
    "    res = \"\"\n",
    "    for i in range(n):\n",
    "        res = res + alphabet[random.randint(0, MAX)]\n",
    "    return res\n",
    "n = int(length)\n",
    "for i in range(0,limit):\n",
    "    a=printRandomString(n)\n",
    "    print(a)"
   ]
  }
 ],
 "metadata": {
  "kernelspec": {
   "display_name": "Python 3.10.5 64-bit",
   "language": "python",
   "name": "python3"
  },
  "language_info": {
   "codemirror_mode": {
    "name": "ipython",
    "version": 3
   },
   "file_extension": ".py",
   "mimetype": "text/x-python",
   "name": "python",
   "nbconvert_exporter": "python",
   "pygments_lexer": "ipython3",
   "version": "3.10.5"
  },
  "vscode": {
   "interpreter": {
    "hash": "b9d1092be7cb899da6de8f1882d369af25d6743bceed3b18029057ff16634529"
   }
  }
 },
 "nbformat": 4,
 "nbformat_minor": 2
}
