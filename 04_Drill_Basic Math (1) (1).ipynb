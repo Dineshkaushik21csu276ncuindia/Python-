{
 "cells": [
  {
   "cell_type": "markdown",
   "metadata": {},
   "source": [
    "# Exercise"
   ]
  },
  {
   "cell_type": "markdown",
   "metadata": {},
   "source": [
    "## Question 1"
   ]
  },
  {
   "cell_type": "markdown",
   "metadata": {},
   "source": [
    "**Given the values of three variables a, b and c, write a program to compute and display the value of x, where**"
   ]
  },
  {
   "cell_type": "markdown",
   "metadata": {},
   "source": [
    "$ x =   a/(b-c) $"
   ]
  },
  {
   "cell_type": "markdown",
   "metadata": {},
   "source": [
    "**Consider a=250, b=85, c=25**."
   ]
  },
  {
   "cell_type": "code",
   "execution_count": 1,
   "metadata": {},
   "outputs": [
    {
     "name": "stdout",
     "output_type": "stream",
     "text": [
      "4.166666666666667\n"
     ]
    }
   ],
   "source": [
    "a = 250\n",
    "b= 85 \n",
    "c= 25\n",
    "x = a/(b-c)\n",
    "print(x)"
   ]
  },
  {
   "cell_type": "markdown",
   "metadata": {},
   "source": [
    "## Question 2"
   ]
  },
  {
   "cell_type": "markdown",
   "metadata": {},
   "source": [
    "**In question no. 1, change the values of a, b and c and calculate x.**\n",
    "\n",
    "**Consider a=250, b=85, c=85.**"
   ]
  },
  {
   "cell_type": "code",
   "execution_count": 2,
   "metadata": {},
   "outputs": [
    {
     "ename": "ZeroDivisionError",
     "evalue": "division by zero",
     "output_type": "error",
     "traceback": [
      "\u001b[1;31m---------------------------------------------------------------------------\u001b[0m",
      "\u001b[1;31mZeroDivisionError\u001b[0m                         Traceback (most recent call last)",
      "\u001b[1;32mc:\\Users\\lewarends\\Desktop\\python\\04_Drill_Basic Math (1) (1).ipynb Cell 9\u001b[0m in \u001b[0;36m<cell line: 4>\u001b[1;34m()\u001b[0m\n\u001b[0;32m      <a href='vscode-notebook-cell:/c%3A/Users/lewarends/Desktop/python/04_Drill_Basic%20Math%20%281%29%20%281%29.ipynb#X11sZmlsZQ%3D%3D?line=1'>2</a>\u001b[0m b\u001b[39m=\u001b[39m \u001b[39m85\u001b[39m \n\u001b[0;32m      <a href='vscode-notebook-cell:/c%3A/Users/lewarends/Desktop/python/04_Drill_Basic%20Math%20%281%29%20%281%29.ipynb#X11sZmlsZQ%3D%3D?line=2'>3</a>\u001b[0m c\u001b[39m=\u001b[39m \u001b[39m85\u001b[39m\n\u001b[1;32m----> <a href='vscode-notebook-cell:/c%3A/Users/lewarends/Desktop/python/04_Drill_Basic%20Math%20%281%29%20%281%29.ipynb#X11sZmlsZQ%3D%3D?line=3'>4</a>\u001b[0m x \u001b[39m=\u001b[39m a\u001b[39m/\u001b[39;49m(b\u001b[39m-\u001b[39;49mc)\n\u001b[0;32m      <a href='vscode-notebook-cell:/c%3A/Users/lewarends/Desktop/python/04_Drill_Basic%20Math%20%281%29%20%281%29.ipynb#X11sZmlsZQ%3D%3D?line=4'>5</a>\u001b[0m \u001b[39mprint\u001b[39m(x)\n",
      "\u001b[1;31mZeroDivisionError\u001b[0m: division by zero"
     ]
    }
   ],
   "source": [
    "a = 250\n",
    "b= 85 \n",
    "c= 85\n",
    "x = a/(b-c)\n",
    "print(x)"
   ]
  },
  {
   "cell_type": "markdown",
   "metadata": {},
   "source": [
    "**Division by zero error!**"
   ]
  },
  {
   "cell_type": "markdown",
   "metadata": {},
   "source": [
    "## Question 3"
   ]
  },
  {
   "cell_type": "markdown",
   "metadata": {},
   "source": [
    "**Write a program to convert temperatures from Fahrenheit to Celsius. The formula for\n",
    "that is:** \n",
    "\n",
    " $ C = 5 / 9 * (F - 32) $"
   ]
  },
  {
   "cell_type": "code",
   "execution_count": 5,
   "metadata": {},
   "outputs": [
    {
     "name": "stdout",
     "output_type": "stream",
     "text": [
      "173.33333333333334\n"
     ]
    }
   ],
   "source": [
    "fahrenheit = float  (input(\"Enter the temp in farhremheit\"))\n",
    "celsius = 5/9*(fahrenheit-32)\n",
    "print(float(celsius))\n"
   ]
  },
  {
   "cell_type": "markdown",
   "metadata": {},
   "source": [
    "## Question 4"
   ]
  },
  {
   "cell_type": "markdown",
   "metadata": {},
   "source": [
    "**Three people ate dinner at a restaurant and want to split the bill. The total is *$35.27*,** **and they want to leave a *15%* tip. How much should each person pay?**"
   ]
  },
  {
   "cell_type": "code",
   "execution_count": 10,
   "metadata": {},
   "outputs": [
    {
     "name": "stdout",
     "output_type": "stream",
     "text": [
      "40.560500000000005\n",
      "13.520166666666668\n"
     ]
    }
   ],
   "source": [
    "bill = float (35.27)\n",
    "bill15 = (bill*.15)+bill\n",
    "print(bill15)\n",
    "split = bill15/3\n",
    "print(split)"
   ]
  },
  {
   "cell_type": "markdown",
   "metadata": {},
   "source": [
    "## Question 5"
   ]
  },
  {
   "cell_type": "markdown",
   "metadata": {},
   "source": [
    "**Calculate the *area* and *perimeter* of a rectangular room having size *12.5* meters by *16.7* meters.**"
   ]
  },
  {
   "cell_type": "code",
   "execution_count": 15,
   "metadata": {},
   "outputs": [
    {
     "name": "stdout",
     "output_type": "stream",
     "text": [
      "58.4\n"
     ]
    }
   ],
   "source": [
    "length = 12.5\n",
    "breadth = 16.7\n",
    "sum = float(length+breadth)\n",
    "perimeter = float (2*(sum)) \n",
    "print(perimeter)"
   ]
  },
  {
   "cell_type": "markdown",
   "metadata": {},
   "source": [
    "## Question 6"
   ]
  },
  {
   "cell_type": "markdown",
   "metadata": {},
   "source": [
    "**Do you know how to figure out how long it will take to get somewhere in a car? The formula (in words) is “travel time equals distance divided by speed.” Make a program to calculate the time it will take to drive *200 km* at *80 km per hour* and display the answer.**"
   ]
  },
  {
   "cell_type": "code",
   "execution_count": 16,
   "metadata": {},
   "outputs": [
    {
     "name": "stdout",
     "output_type": "stream",
     "text": [
      "2.5\n"
     ]
    }
   ],
   "source": [
    "distance = 200\n",
    "speed = 80 \n",
    "time = float (distance / speed)\n",
    "print (time)"
   ]
  },
  {
   "cell_type": "markdown",
   "metadata": {},
   "source": [
    "## Question 7"
   ]
  },
  {
   "cell_type": "markdown",
   "metadata": {},
   "source": [
    "**Write a Python program to allow the user to enter radius of a circle. Calculate and display the area of circle.**"
   ]
  },
  {
   "cell_type": "code",
   "execution_count": 17,
   "metadata": {},
   "outputs": [
    {
     "name": "stdout",
     "output_type": "stream",
     "text": [
      "5.0\n",
      "78.5\n"
     ]
    }
   ],
   "source": [
    "radius  = float (input (\"Enter the radius of circle \"))\n",
    "print(radius)\n",
    "Area = float(3.14*radius**2)\n",
    "print(Area)"
   ]
  },
  {
   "cell_type": "markdown",
   "metadata": {},
   "source": [
    "## Question 8"
   ]
  },
  {
   "cell_type": "markdown",
   "metadata": {},
   "source": [
    "**In Question 7, we explicitly initialized value of pi. Compute the area of circle without explicitly initializing pi.**\n",
    "\n",
    "**Hint: import math  library**"
   ]
  },
  {
   "cell_type": "code",
   "execution_count": 18,
   "metadata": {},
   "outputs": [
    {
     "name": "stdout",
     "output_type": "stream",
     "text": [
      "5.0\n",
      "78.53981633974483\n"
     ]
    }
   ],
   "source": [
    "import math\n",
    "radius  = float (input (\"Enter the radius of circle \"))\n",
    "print(radius)\n",
    "Area = float((math.pi)*radius**2)\n",
    "print(Area)"
   ]
  },
  {
   "cell_type": "markdown",
   "metadata": {},
   "source": [
    "## Question 9"
   ]
  },
  {
   "cell_type": "markdown",
   "metadata": {},
   "source": [
    "**Write a Python program that allows the user to enter two integer values, and displays the results when each of the following arithmetic operators are applied.**\n",
    "\n",
    "**For example, if the user enters the values 7 and 5, the output would be,**\n",
    "\n",
    "    7 + 5 = 12 \n",
    "    \n",
    "    7 - 5 = 2\n",
    "    \n",
    "    7 * 5 = 35\n",
    "    \n",
    "    7 / 5 = 1.40\n",
    "    \n",
    "    7 //5 = 1 \n",
    "    \n",
    "    7 % 5 = 2\n",
    "    \n",
    "    7 **5 = 16,807"
   ]
  },
  {
   "cell_type": "code",
   "execution_count": 26,
   "metadata": {},
   "outputs": [
    {
     "name": "stdout",
     "output_type": "stream",
     "text": [
      "addition 12.0\n",
      "multiplication 35.0\n",
      "subtract 2.0\n",
      "divide1.4\n",
      "round of the division 1.0\n",
      "percent 2.0\n",
      "power 16807.0\n"
     ]
    }
   ],
   "source": [
    "num1 = float (input(\"Enter the num1\"))\n",
    "num2 = float (input(\"Enter the num2\"))\n",
    "output1 = (num1+num2)\n",
    "print(f'addition {output1}')\n",
    "output2 = (num1*num2)\n",
    "print(f'multiplication {output2}')\n",
    "output3 = (num1-num2)\n",
    "print(f'subtract {output3}')\n",
    "output4 = (num1/num2)\n",
    "print(f'divide{output4}')\n",
    "output5 = (num1//num2)\n",
    "print(f'round of the division {output5}')\n",
    "output6 = (num1%num2)\n",
    "print(f'percent {output6}')\n",
    "output7 = (num1**num2)\n",
    "print(f'power {output7}')"
   ]
  },
  {
   "cell_type": "markdown",
   "metadata": {},
   "source": [
    "## Question 10"
   ]
  },
  {
   "cell_type": "markdown",
   "metadata": {},
   "source": [
    "**Write a Python program that allows the user to enter an integer value and displays the table of that integer value.**\n",
    "\n",
    "**For example, if the user enters the value as 5, the output would be,**\n",
    "\n",
    "    5 * 1 = 5 (5 * i = 5)\n",
    "    5 * 2 = 10\n",
    "    5 * 3 = 15\n",
    "    5 * 4 = 20\n",
    "    .\n",
    "    .\n",
    "    .\n",
    "    5 * 10 = 50\n",
    "    \n",
    "**Use increment operator at each step to increment value of i.**"
   ]
  },
  {
   "cell_type": "code",
   "execution_count": 30,
   "metadata": {},
   "outputs": [
    {
     "name": "stdout",
     "output_type": "stream",
     "text": [
      "8 *0 = 0\n",
      "8 *1 = 8\n",
      "8 *2 = 16\n",
      "8 *3 = 24\n",
      "8 *4 = 32\n",
      "8 *5 = 40\n",
      "8 *6 = 48\n",
      "8 *7 = 56\n",
      "8 *8 = 64\n",
      "8 *9 = 72\n",
      "8 *10 = 80\n"
     ]
    }
   ],
   "source": [
    "a = int(input(\"Enter th number\"))\n",
    "for i in range(0,11):\n",
    "    print(f'{a} *{i} = {i*a}')"
   ]
  },
  {
   "cell_type": "markdown",
   "metadata": {},
   "source": [
    "## Question 11"
   ]
  },
  {
   "cell_type": "markdown",
   "metadata": {},
   "source": [
    "**Area of a triangle is given by the formula:**"
   ]
  },
  {
   "cell_type": "markdown",
   "metadata": {},
   "source": [
    "$ area= \\sqrt{S * (S - a) * (S - b) * (S - c)} $"
   ]
  },
  {
   "cell_type": "markdown",
   "metadata": {},
   "source": [
    "**where a, b and c are sides of the triangle and *2S=a+b+c*. Write a program to compute the area of traingle given the values of a, b and c as 10, 20 and 20 respectively.**"
   ]
  },
  {
   "cell_type": "code",
   "execution_count": 35,
   "metadata": {},
   "outputs": [
    {
     "name": "stdout",
     "output_type": "stream",
     "text": [
      "25.0\n",
      "96.82458365518542\n"
     ]
    }
   ],
   "source": [
    "import math\n",
    "a = 10\n",
    "b = 20\n",
    "c = 20\n",
    "s  = (a+b+c)/2\n",
    "print(s)\n",
    "Area = s*(s-a)*(s-b)*(s-c)\n",
    "print (Area**.5)  \n"
   ]
  },
  {
   "cell_type": "markdown",
   "metadata": {},
   "source": [
    "## Question 12"
   ]
  },
  {
   "cell_type": "markdown",
   "metadata": {},
   "source": [
    "**Distance between two points *(x1, y1) and (x2, y2)* is given by the formula:**"
   ]
  },
  {
   "cell_type": "markdown",
   "metadata": {},
   "source": [
    "$ D ^ 2 = (x2 - x1) ^ 2 + (y2 - y1) ^ 2 $\n",
    "    \n",
    "**Write a program to compute D given the coordinates of the points as *(2,4) and (9,8)*.**"
   ]
  },
  {
   "cell_type": "code",
   "execution_count": 36,
   "metadata": {},
   "outputs": [
    {
     "name": "stdout",
     "output_type": "stream",
     "text": [
      "4225\n"
     ]
    }
   ],
   "source": [
    "x1 =  2\n",
    "y1 = 4\n",
    "x2 = 9\n",
    "y2 = 8\n",
    "D = (x2 - x1 )**2 + (y2 - y1)**2\n",
    "print(D**.5 )"
   ]
  },
  {
   "cell_type": "markdown",
   "metadata": {},
   "source": [
    "## Question 13"
   ]
  },
  {
   "cell_type": "markdown",
   "metadata": {},
   "source": [
    "**Write a program to input an integer radian value from user and convert the radian into degree.** "
   ]
  },
  {
   "cell_type": "code",
   "execution_count": 7,
   "metadata": {},
   "outputs": [
    {
     "name": "stdout",
     "output_type": "stream",
     "text": [
      "12.0\n",
      "687.8980891719744\n"
     ]
    }
   ],
   "source": [
    "radian = float (input(\"Enter the value of radian\"))\n",
    "print(radian)\n",
    "degree = radian * (180/3.14)\n",
    "print(degree)"
   ]
  }
 ],
 "metadata": {
  "kernelspec": {
   "display_name": "Python 3.10.5 64-bit",
   "language": "python",
   "name": "python3"
  },
  "language_info": {
   "codemirror_mode": {
    "name": "ipython",
    "version": 3
   },
   "file_extension": ".py",
   "mimetype": "text/x-python",
   "name": "python",
   "nbconvert_exporter": "python",
   "pygments_lexer": "ipython3",
   "version": "3.10.5"
  },
  "vscode": {
   "interpreter": {
    "hash": "b9d1092be7cb899da6de8f1882d369af25d6743bceed3b18029057ff16634529"
   }
  }
 },
 "nbformat": 4,
 "nbformat_minor": 2
}
