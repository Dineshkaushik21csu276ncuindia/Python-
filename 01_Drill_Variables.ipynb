{
 "cells": [
  {
   "cell_type": "markdown",
   "metadata": {},
   "source": [
    "<img src=\"logo.jpg\">"
   ]
  },
  {
   "cell_type": "markdown",
   "metadata": {},
   "source": [
    "  ## Experiment No: 1\n",
    "Student Name **Dinesh**\n",
    "Roll Number: **21csu276**\n",
    "Semester /Section:** 3rd sem , AIML-C (Al-6)**\n",
    "Link to Code:<br>\n",
    "Date:8-Aug-2022\n",
    "Faculty Signature:<br>\n",
    "Remarks:\n",
    "\n",
    "### Objective\n",
    "To familiarize the students about Variable Concepts (part-1)."
   ]
  },
  {
   "cell_type": "markdown",
   "metadata": {},
   "source": [
    "# Exercise"
   ]
  },
  {
   "cell_type": "markdown",
   "metadata": {},
   "source": [
    "##  1"
   ]
  },
  {
   "cell_type": "markdown",
   "metadata": {},
   "source": [
    "Just like in the last chapter, in interactive mode, get Python to **calculate the number of\n",
    "minutes** in a week. But this time, use variables. Make variables for **DaysPerWeek,\n",
    "HoursPerDay, and MinutesPerHour** (or make up your own names), and then multiply\n",
    "them together.\n"
   ]
  },
  {
   "cell_type": "code",
   "execution_count": null,
   "metadata": {},
   "outputs": [],
   "source": [
    "print(\"Welcome in the days,minutes calculator\")\n",
    "Days= float (input (\"Enter the number of Days\") )\n",
    "print (Days) \n",
    "minutes = float(Days/1440)\n",
    "print(\"number of minutes in Days\" )\n",
    "print(minutes)\n",
    "week = float (input (\"Enter the number of week\") )\n",
    "Minutes = float (week/10080)\n",
    "print(Minutes)\n"
   ]
  },
  {
   "cell_type": "markdown",
   "metadata": {},
   "source": [
    "##  2"
   ]
  },
  {
   "cell_type": "markdown",
   "metadata": {},
   "source": [
    "People are always saying there’s not enough time to get everything done. How many\n",
    "minutes would there be in a week if there were 26 hours in a day?\n",
    "\n",
    "**(Hint: Change the HoursPerDay variable.)**\n"
   ]
  },
  {
   "cell_type": "code",
   "execution_count": null,
   "metadata": {},
   "outputs": [],
   "source": [
    "print(\"One day have 26 hours\")\n",
    "Week = float(input(\"Enter the number of week\"))\n",
    "Days = (Week*7 )\n",
    "print(Days)\n",
    "print(\"Hours in week\")\n",
    "Hours = (26*Days)\n",
    "print(Hours)\n",
    "print(\"minutes in week\") \n",
    "hours = (Hours*60)\n",
    "print(hours)\n"
   ]
  },
  {
   "cell_type": "markdown",
   "metadata": {},
   "source": [
    "##  3"
   ]
  },
  {
   "cell_type": "markdown",
   "metadata": {},
   "source": [
    "Let's use **Pythagoras theorem** to calculate the **length of the hypotenuse** of a right-angled triangle where the other sides have lengths 3 and 4."
   ]
  },
  {
   "cell_type": "code",
   "execution_count": null,
   "metadata": {},
   "outputs": [],
   "source": [
    "import math\n",
    "l = int(input(\"Enter base\"))\n",
    "b = int(input(\"Enter other side\"))\n",
    "sum = math.sqrt(l**2 + b**2)\n",
    "print(\"length of hypotenous\")\n",
    "print(+ sum) "
   ]
  },
  {
   "cell_type": "markdown",
   "metadata": {},
   "source": [
    "##  4"
   ]
  },
  {
   "cell_type": "markdown",
   "metadata": {},
   "source": [
    "Write a simple Python program that displays the following **powers of 2**, one per line: $$2^1, 2^2, 2^3, 2^4, 2^5, 2^6, 2^7, 2^8$$ <br>\n",
    "**Note:You can use ** for power.**"
   ]
  },
  {
   "cell_type": "code",
   "execution_count": null,
   "metadata": {},
   "outputs": [],
   "source": [
    "import math\n",
    "print(\"welcoome\")\n",
    "#power = (input(\"Enter the power of 2\"))\n",
    "print( 2**1 )\n",
    "print(2**2)\n",
    "print(2**3)\n",
    "print(2**4)\n",
    "print(2**5)\n",
    "print(2**6)"
   ]
  },
  {
   "cell_type": "markdown",
   "metadata": {},
   "source": [
    "##  5"
   ]
  },
  {
   "cell_type": "markdown",
   "metadata": {},
   "source": [
    "**Write a Python program that allows the user to enter any integer value, and displays the value of 2 raised to that power. Your program should function as shown below.**\n",
    "\n",
    "What power of two? 10\n",
    "\n",
    "Two to the power of 10 is 1024"
   ]
  },
  {
   "cell_type": "code",
   "execution_count": null,
   "metadata": {},
   "outputs": [],
   "source": [
    "print(\"welcome\")\n",
    "power = int(input(\"Enter the power of 2 \"))\n",
    "integer = (2**power) \n",
    "print(integer)\n"
   ]
  },
  {
   "cell_type": "markdown",
   "metadata": {},
   "source": [
    "##  6"
   ]
  },
  {
   "cell_type": "markdown",
   "metadata": {},
   "source": [
    "**Write a Python program that allows the user to enter any integer base and integer exponent, and displays the value of the base raised to that exponent. Your program should function as shown below.**\n",
    "\n",
    "What base? 10\n",
    "\n",
    "What power? 4\n",
    "\n",
    "10 to the power of 4 is 10000"
   ]
  },
  {
   "cell_type": "code",
   "execution_count": null,
   "metadata": {},
   "outputs": [],
   "source": [
    "print(\"welcome\")\n",
    "base = int(input(\"Enter the base \"))\n",
    "power = int(input(\"Enter the power \"))\n",
    "integer = (base**power) \n",
    "print(integer)\n"
   ]
  },
  {
   "cell_type": "markdown",
   "metadata": {},
   "source": [
    "##  7"
   ]
  },
  {
   "cell_type": "markdown",
   "metadata": {},
   "source": [
    "**Write a Python program that allows the user to enter a four-digit binary number and displays its value in base 10. Each binary digit should be entered one per line, starting with the leftmost digit, as shown below.**\n",
    "\n",
    "Enter leftmost digit: 1\n",
    "\n",
    "Enter the next digit: 0\n",
    "\n",
    "Enter the next digit: 0\n",
    "\n",
    "Enter the next digit: 1\n",
    "\n",
    "The value is 9"
   ]
  },
  {
   "cell_type": "code",
   "execution_count": null,
   "metadata": {},
   "outputs": [],
   "source": [
    "print(\"welcome\")\n",
    "print(\"Only select 1 and 0\")\n",
    "A = int(input(\"Enter left most digit\"))\n",
    "B = int(input(\"Enter next digit\"))\n",
    "C = int(input(\"Enter next digit\"))\n",
    "D = int(input(\"Enter next digit\"))\n",
    "e = (1*A)\n",
    "F = (2*B)\n",
    "G = (4*C)\n",
    "H = (8*D)\n",
    "print(A)\n",
    "print(B)\n",
    "print(C)\n",
    "print(D)\n",
    "sum = (e+F+G+H)\n",
    "print(\"Answer\",sum)\n"
   ]
  },
  {
   "cell_type": "markdown",
   "metadata": {},
   "source": [
    "##  8"
   ]
  },
  {
   "cell_type": "markdown",
   "metadata": {},
   "source": [
    "**Write a simple Python program that prompts the user for a certain number of cities for the Traveling Salesman problem, and displays the total number of possible routes that can be taken. Your program should function as shown below.**\n",
    "\n",
    "How many cities? 10\n",
    "\n",
    "For 10 cities, there are 3628800 possible route"
   ]
  },
  {
   "cell_type": "code",
   "execution_count": null,
   "metadata": {},
   "outputs": [],
   "source": [
    "import math\n",
    "print(\"welcome\")\n",
    "cities = int(input(\"enter the numbers of city you want to travel\"))\n",
    "routes = math.factorial(cities)\n",
    "print(\"routes are:\",routes)\n"
   ]
  },
  {
   "cell_type": "markdown",
   "metadata": {},
   "source": [
    "**Hint: Use library Math (import math) and use function factorial from it.  Factorial takes one argument in bracket (*math.factorial(x)*).**"
   ]
  }
 ],
 "metadata": {
  "kernelspec": {
   "display_name": "Python 3.10.5 64-bit",
   "language": "python",
   "name": "python3"
  },
  "language_info": {
   "codemirror_mode": {
    "name": "ipython",
    "version": 3
   },
   "file_extension": ".py",
   "mimetype": "text/x-python",
   "name": "python",
   "nbconvert_exporter": "python",
   "pygments_lexer": "ipython3",
   "version": "3.10.5"
  },
  "vscode": {
   "interpreter": {
    "hash": "b9d1092be7cb899da6de8f1882d369af25d6743bceed3b18029057ff16634529"
   }
  }
 },
 "nbformat": 4,
 "nbformat_minor": 2
}
